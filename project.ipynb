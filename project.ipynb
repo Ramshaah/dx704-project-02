{
  "cells": [
    {
      "cell_type": "markdown",
      "metadata": {
        "id": "7aZ_blKrRZ3H"
      },
      "source": [
        "# DX 704 Week 2 Project\n",
        "\n",
        "This week's project will analyze fresh strawberry price data for a hypothetical \"buy low, freeze, and sell high\" business.\n",
        "Strawberries show strong seasonality in their prices compared to other fruits.\n",
        "\n",
        "![](https://ers.usda.gov/sites/default/files/_laserfiche/Charts/61401/oct14_finding_plattner_fig01.png)\n",
        "\n",
        "Image source: https://www.ers.usda.gov/amber-waves/2014/october/seasonal-fresh-fruit-price-patterns-differ-across-commodities-the-case-of-strawberries-and-apples\n",
        "\n",
        "You are considering a business where you buy strawberries when the prices are very low, carefully freeze them, even more carefully defrost them, and then sell them when the prices are high.\n",
        "You will forecast strawberry price time series and then use them to tactically pick times to buy, freeze, and sell the strawberries."
      ]
    },
    {
      "cell_type": "markdown",
      "metadata": {
        "id": "g1rddBd6_teG"
      },
      "source": [
        "The full project description, a template notebook, and raw data are available on GitHub at the following link.\n",
        "\n",
        "https://github.com/bu-cds-dx704/dx704-project-02\n"
      ]
    },
    {
      "cell_type": "markdown",
      "metadata": {},
      "source": [
        "### Example Code\n",
        "\n",
        "You may find it helpful to refer to these GitHub repositories of Jupyter notebooks for example code.\n",
        "\n",
        "* https://github.com/bu-cds-omds/dx601-examples\n",
        "* https://github.com/bu-cds-omds/dx602-examples\n",
        "* https://github.com/bu-cds-omds/dx603-examples\n",
        "* https://github.com/bu-cds-omds/dx704-examples\n",
        "\n",
        "Any calculations demonstrated in code examples or videos may be found in these notebooks, and you are allowed to copy this example code in your homework answers."
      ]
    },
    {
      "cell_type": "markdown",
      "metadata": {
        "id": "B7jHqNiZBXzD"
      },
      "source": [
        "## Part 1: Backtest Strawberry Prices\n",
        "\n",
        "Read the provided \"strawberry-prices.tsv\" with data from 2020 through 2024.\n",
        "This data is based on data from the U.S. Bureau of Statistics, but transformed so the ground truth is not online.\n",
        "https://fred.stlouisfed.org/series/APU0000711415\n",
        "\n",
        "Use the data for 2020 through 2023 to predict monthly prices in 2024.\n",
        "Spend some time to make sure you are happy with your methodology and prediction accuracy, since you will reuse the methodology to forecast 2025 next.\n",
        "Save the 2024 backtest predictions as \"strawberry-backtest.tsv\" with columns month and price.\n"
      ]
    },
    {
      "cell_type": "markdown",
      "metadata": {
        "id": "vzTi6z-skMoz"
      },
      "source": [
        "Submit \"strawberry-backtest.tsv\" in Gradescope."
      ]
    },
    {
      "cell_type": "code",
      "execution_count": 20,
      "metadata": {},
      "outputs": [
        {
          "name": "stdout",
          "output_type": "stream",
          "text": [
            "Saved strawberry-backtest.tsv\n",
            "      month     price\n",
            "48  2024-01  4.783194\n",
            "49  2024-02  4.511694\n",
            "50  2024-03  4.109194\n",
            "51  2024-04  4.207644\n",
            "52  2024-05  3.946694\n",
            "53  2024-06  3.695444\n",
            "54  2024-07  3.614444\n",
            "55  2024-08  3.910194\n",
            "56  2024-09  4.002194\n",
            "57  2024-10  4.346444\n",
            "58  2024-11  4.818444\n",
            "59  2024-12  5.209019\n"
          ]
        }
      ],
      "source": [
        "# Part 1: Backtest Strawberry Prices  -> writes strawberry-backtest.tsv\n",
        "# (Fixes dtype issue by forcing numeric arrays.)\n",
        "\n",
        "import numpy as np\n",
        "import pandas as pd\n",
        "\n",
        "DATA_PATH = \"/workspaces/dx704-project-02/strawberry-prices.tsv\"  # Codespaces path\n",
        "\n",
        "# --- Load & prep ---\n",
        "df = pd.read_csv(DATA_PATH, sep=\"\\t\")\n",
        "df[\"month\"] = pd.to_datetime(df[\"month\"])\n",
        "df = df.sort_values(\"month\").reset_index(drop=True)\n",
        "\n",
        "# Global time index (t) starting at 1\n",
        "df[\"t\"] = (\n",
        "    (df[\"month\"].dt.year - df[\"month\"].iloc[0].year) * 12\n",
        "    + (df[\"month\"].dt.month - df[\"month\"].iloc[0].month)\n",
        "    + 1\n",
        ")\n",
        "\n",
        "# --- Design matrix: intercept + time trend + month dummies (Jan baseline) ---\n",
        "def build_X(months: pd.Series, tvals: pd.Series) -> pd.DataFrame:\n",
        "    m = months.dt.month.astype(int)\n",
        "    dummies = pd.get_dummies(m, prefix=\"m\", drop_first=True)  # m_2..m_12\n",
        "    # Ensure all 11 dummy columns exist and in stable order\n",
        "    for j in range(2, 13):\n",
        "        col = f\"m_{j}\"\n",
        "        if col not in dummies.columns:\n",
        "            dummies[col] = 0\n",
        "    dummies = dummies[[f\"m_{j}\" for j in range(2, 13)]]\n",
        "    X = pd.concat(\n",
        "        [\n",
        "            pd.Series(1.0, index=tvals.index, name=\"intercept\"),\n",
        "            tvals.astype(float).rename(\"t\"),\n",
        "            dummies.astype(float),\n",
        "        ],\n",
        "        axis=1,\n",
        "    )\n",
        "    return X\n",
        "\n",
        "def ols_predict(X_train: pd.DataFrame, y_train: pd.Series, X_new: pd.DataFrame) -> np.ndarray:\n",
        "    # Force numeric arrays\n",
        "    A = X_train.to_numpy(dtype=float)\n",
        "    b = pd.to_numeric(y_train, errors=\"coerce\").to_numpy(dtype=float)\n",
        "    # Keep only rows where y is finite\n",
        "    mask = np.isfinite(b)\n",
        "    A = A[mask]\n",
        "    b = b[mask]\n",
        "    # Solve least squares\n",
        "    beta, *_ = np.linalg.lstsq(A, b, rcond=None)\n",
        "    return X_new.to_numpy(dtype=float) @ beta\n",
        "\n",
        "# --- Split: train on 2020–2023, predict 2024 ---\n",
        "train = df[df[\"month\"].dt.year <= 2023].copy()\n",
        "test  = df[df[\"month\"].dt.year == 2024].copy()\n",
        "\n",
        "X_tr = build_X(train[\"month\"], train[\"t\"])\n",
        "y_tr = train[\"price\"]\n",
        "X_te = build_X(test[\"month\"], test[\"t\"])\n",
        "\n",
        "pred_2024 = ols_predict(X_tr, y_tr, X_te)\n",
        "\n",
        "# --- Save backtest file ---\n",
        "backtest = pd.DataFrame({\n",
        "    \"month\": test[\"month\"].dt.strftime(\"%Y-%m\"),\n",
        "    \"price\": pred_2024\n",
        "})\n",
        "backtest.to_csv(\"strawberry-backtest.tsv\", sep=\"\\t\", index=False)\n",
        "\n",
        "print(\"Saved strawberry-backtest.tsv\")\n",
        "print(backtest)\n"
      ]
    },
    {
      "cell_type": "markdown",
      "metadata": {
        "id": "T3D1ItqDnt9c"
      },
      "source": [
        "## Part 2: Backtest Errors\n",
        "\n",
        "What are the mean and standard deviation of the residuals between your backtest predictions and the ground truth? (If your mean is not close to zero, then you may be missing a long term trend.)\n",
        "\n",
        "Write the mean and standard deviation to a file \"backtest-accuracy.tsv\" with two columns, mean and std."
      ]
    },
    {
      "cell_type": "code",
      "execution_count": 21,
      "metadata": {
        "id": "3wxh46v8tnv8"
      },
      "outputs": [
        {
          "name": "stdout",
          "output_type": "stream",
          "text": [
            "Saved backtest-accuracy.tsv\n",
            "     mean       std\n",
            "0 -0.4253  0.274566\n"
          ]
        }
      ],
      "source": [
        "# YOUR CHANGES HERE\n",
        "\n",
        "# Part 2: Backtest Errors -> writes backtest-accuracy.tsv\n",
        "# Residuals = actual (ground truth) - predicted\n",
        "# Std is sample standard deviation (ddof=1).\n",
        "\n",
        "import pandas as pd\n",
        "import numpy as np\n",
        "\n",
        "DATA_PATH = \"/workspaces/dx704-project-02/strawberry-prices.tsv\"   # Codespaces path to raw data\n",
        "BACKTEST_PATH = \"strawberry-backtest.tsv\"                          # created in Part 1\n",
        "OUTPUT_PATH = \"backtest-accuracy.tsv\"\n",
        "\n",
        "# --- Load ground truth (filter 2024) ---\n",
        "truth = pd.read_csv(DATA_PATH, sep=\"\\t\")\n",
        "truth[\"month\"] = pd.to_datetime(truth[\"month\"])\n",
        "truth_2024 = truth[truth[\"month\"].dt.year == 2024].copy()\n",
        "truth_2024[\"month_str\"] = truth_2024[\"month\"].dt.strftime(\"%Y-%m\")\n",
        "truth_2024 = truth_2024[[\"month_str\", \"price\"]].rename(columns={\"price\": \"actual\"})\n",
        "\n",
        "# --- Load predictions from Part 1 ---\n",
        "pred = pd.read_csv(BACKTEST_PATH, sep=\"\\t\")\n",
        "pred = pred.rename(columns={\"month\": \"month_str\", \"price\": \"predicted\"})\n",
        "\n",
        "# --- Merge and compute residuals ---\n",
        "df = truth_2024.merge(pred, on=\"month_str\", how=\"inner\").sort_values(\"month_str\")\n",
        "# Sanity check: should have 12 months\n",
        "if len(df) != 12:\n",
        "    print(f\"Warning: expected 12 months for 2024, found {len(df)} after merge.\")\n",
        "\n",
        "df[\"residual\"] = pd.to_numeric(df[\"actual\"], errors=\"coerce\") - pd.to_numeric(df[\"predicted\"], errors=\"coerce\")\n",
        "\n",
        "# --- Mean and std of residuals ---\n",
        "mean_resid = float(df[\"residual\"].mean())\n",
        "std_resid  = float(df[\"residual\"].std(ddof=1))  # sample std\n",
        "\n",
        "# --- Save to TSV ---\n",
        "out = pd.DataFrame([{\"mean\": mean_resid, \"std\": std_resid}])\n",
        "out.to_csv(OUTPUT_PATH, sep=\"\\t\", index=False)\n",
        "\n",
        "print(\"Saved backtest-accuracy.tsv\")\n",
        "print(out)\n"
      ]
    },
    {
      "cell_type": "markdown",
      "metadata": {
        "id": "Cq2d378QtnG9"
      },
      "source": [
        "Submit \"backtest-accuracy.tsv\" in Gradescope."
      ]
    },
    {
      "cell_type": "markdown",
      "metadata": {
        "id": "Pa4DWVrpj5mq"
      },
      "source": [
        "## Part 3: Forecast Strawberry Prices\n",
        "\n",
        "Use all the data from 2020 through 2024 to predict monthly prices in 2025 using the same methodology from part 1.\n",
        "Make a monthly forecast for each month of 2025 and save it as \"strawberry-forecast.tsv\" with columns for month and price."
      ]
    },
    {
      "cell_type": "code",
      "execution_count": 22,
      "metadata": {
        "id": "CiKoW3BrkJiS"
      },
      "outputs": [
        {
          "name": "stdout",
          "output_type": "stream",
          "text": [
            "Saved strawberry-forecast.tsv\n",
            "     month     price\n",
            "0  2025-01  4.750553\n",
            "1  2025-02  4.375153\n",
            "2  2025-03  3.948753\n",
            "3  2025-04  3.994313\n",
            "4  2025-05  3.717753\n"
          ]
        }
      ],
      "source": [
        "# YOUR CHANGES HERE\n",
        "\n",
        "# Part 3: Forecast Strawberry Prices -> writes strawberry-forecast.tsv\n",
        "# Methodology: OLS with linear trend + monthly seasonality (one-hot, drop_first)\n",
        "\n",
        "import pandas as pd\n",
        "import numpy as np\n",
        "\n",
        "DATA_PATH = \"/workspaces/dx704-project-02/strawberry-prices.tsv\"  # Codespaces path\n",
        "OUTPUT_PATH = \"strawberry-forecast.tsv\"\n",
        "\n",
        "# --- Helpers (same as Part 1 methodology) ---\n",
        "def build_X(month_series: pd.Series, t_series: pd.Series) -> pd.DataFrame:\n",
        "    \"\"\"\n",
        "    Design matrix: intercept + linear trend t + monthly one-hots (drop_first to avoid collinearity).\n",
        "    Ensures float dtype for numpy lstsq.\n",
        "    \"\"\"\n",
        "    month_num = month_series.dt.month.astype(int)\n",
        "    dummies = pd.get_dummies(month_num, prefix=\"m\", drop_first=True).astype(float)  # m_2..m_12\n",
        "    X = pd.DataFrame({\n",
        "        \"intercept\": np.ones(len(t_series), dtype=float),\n",
        "        \"t\": t_series.astype(float),\n",
        "    })\n",
        "    X = pd.concat([X, dummies], axis=1)\n",
        "    # If any dummy columns are missing (edge case), add them with zeros to keep column set consistent\n",
        "    for col in [f\"m_{i}\" for i in range(2, 13)]:\n",
        "        if col not in X.columns:\n",
        "            X[col] = 0.0\n",
        "    # Order columns for stability\n",
        "    X = X[[\"intercept\", \"t\"] + [f\"m_{i}\" for i in range(2, 13)]]\n",
        "    return X.astype(float)\n",
        "\n",
        "def ols_predict(X_train: pd.DataFrame, y_train: pd.Series, X_new: pd.DataFrame) -> np.ndarray:\n",
        "    beta, *_ = np.linalg.lstsq(X_train.values.astype(float), y_train.values.astype(float), rcond=None)\n",
        "    return X_new.values.astype(float) @ beta\n",
        "\n",
        "# --- Load all data (2020-2024) ---\n",
        "df = pd.read_csv(DATA_PATH, sep=\"\\t\")\n",
        "df[\"month\"] = pd.to_datetime(df[\"month\"])\n",
        "df = df.sort_values(\"month\").reset_index(drop=True)\n",
        "df[\"t\"] = np.arange(len(df))  # global time index across 2020-2024\n",
        "\n",
        "# Train on 2020-2024 (all available)\n",
        "train = df.copy()\n",
        "X_tr = build_X(train[\"month\"], train[\"t\"])\n",
        "y_tr = train[\"price\"].astype(float)\n",
        "\n",
        "# Build 2025 future grid\n",
        "future_months = pd.date_range(\"2025-01-01\", \"2025-12-01\", freq=\"MS\")\n",
        "t_start = int(train[\"t\"].iloc[-1]) + 1\n",
        "t_future = pd.Series(np.arange(t_start, t_start + len(future_months)), index=future_months)\n",
        "\n",
        "X_te = build_X(pd.Series(future_months), t_future.reset_index(drop=True))\n",
        "pred_2025 = ols_predict(X_tr, y_tr, X_te)\n",
        "\n",
        "# Save forecast\n",
        "forecast = pd.DataFrame({\n",
        "    \"month\": pd.Series(future_months).dt.strftime(\"%Y-%m\"),\n",
        "    \"price\": pred_2025\n",
        "})\n",
        "forecast.to_csv(OUTPUT_PATH, sep=\"\\t\", index=False)\n",
        "\n",
        "print(\"Saved strawberry-forecast.tsv\")\n",
        "print(forecast.head())\n"
      ]
    },
    {
      "cell_type": "markdown",
      "metadata": {
        "id": "32lM_MPdico0"
      },
      "source": [
        "Submit \"strawberry-forecast.tsv\" in Gradescope."
      ]
    },
    {
      "cell_type": "markdown",
      "metadata": {
        "id": "SzCWxxaLi8MH"
      },
      "source": [
        "## Part 4: Buy Low, Freeze and Sell High\n",
        "\n",
        "Using your 2025 forecast, analyze the profit picking different pairs of months to buy and sell strawberries.\n",
        "Maximize your profit assuming that it costs &dollar;0.20 per pint to freeze the strawberries, &dollar;0.10 per pint per month to store the frozen strawberries and there is a 10% price discount from selling previously frozen strawberries.\n",
        "So, if you buy a pint of strawberies for &dollar;1, freeze them, and sell them for &dollar;2 three months after buying them, then the profit is &dollar;2 * 0.9 - &dollar;1 - &dollar;0.20 - &dollar;0.10 * 3 = &dollar;0.30 per pint.\n",
        "To evaluate a given pair of months, assume that you can invest &dollar;1,000,000 to cover all costs, and that you buy as many pints of strawberries as possible.\n",
        "\n",
        "Write the results of your analysis to a file \"timings.tsv\" with columns for the buy_month, sell_month, pints_purchased, and expected_profit."
      ]
    },
    {
      "cell_type": "code",
      "execution_count": 23,
      "metadata": {
        "id": "pGWQQvy6nkCk"
      },
      "outputs": [
        {
          "name": "stdout",
          "output_type": "stream",
          "text": [
            "Saved timings.tsv\n",
            "  buy_month sell_month  pints_purchased  expected_profit\n",
            "0   2025-01    2025-02           197998   -220354.993670\n",
            "1   2025-01    2025-03           194153   -309999.289813\n",
            "2   2025-01    2025-04           190456   -315332.523590\n",
            "3   2025-01    2025-05           186896   -374647.095924\n",
            "4   2025-01    2025-06           183467   -427895.543292\n"
          ]
        }
      ],
      "source": [
        "# YOUR CHANGES HERE\n",
        "\n",
        "# Part 4: Buy Low, Freeze and Sell High -> writes timings.tsv\n",
        "# Assumptions per spec:\n",
        "# - Freeze cost: $0.20 per pint (fixed)\n",
        "# - Storage cost: $0.10 per pint per month (charged for each month between buy and sell)\n",
        "# - Sell price discount for frozen: 10% (i.e., realized sell price = 0.9 * forecast sell price)\n",
        "# - Budget: $1,000,000 to cover ALL costs upfront (buy + freeze + storage); buy as many pints as possible.\n",
        "# - Evaluate ALL month pairs buy<sell in 2025 forecast.\n",
        "\n",
        "import pandas as pd\n",
        "import numpy as np\n",
        "\n",
        "FORECAST_PATH = \"strawberry-forecast.tsv\"  # expects columns: month (YYYY-MM), price\n",
        "OUTPUT_PATH = \"timings.tsv\"\n",
        "\n",
        "FREEZE_COST = 0.20\n",
        "STORAGE_COST_PER_MONTH = 0.10\n",
        "DISCOUNT = 0.10          # 10% discount\n",
        "BUDGET = 1_000_000\n",
        "\n",
        "# --- Load forecast for 2025 ---\n",
        "f = pd.read_csv(FORECAST_PATH, sep=\"\\t\")\n",
        "# Guard: ensure correct dtypes\n",
        "f[\"month\"] = pd.to_datetime(f[\"month\"], format=\"%Y-%m\")\n",
        "f = f.sort_values(\"month\").reset_index(drop=True)\n",
        "f[\"price\"] = f[\"price\"].astype(float)\n",
        "\n",
        "# Helper to compute integer month index (for differences)\n",
        "def month_index(dt: pd.Timestamp) -> int:\n",
        "    return dt.year * 12 + dt.month\n",
        "\n",
        "rows = []\n",
        "for i in range(len(f)):\n",
        "    for j in range(i + 1, len(f)):\n",
        "        buy_month = f.loc[i, \"month\"]\n",
        "        sell_month = f.loc[j, \"month\"]\n",
        "        buy_price = float(f.loc[i, \"price\"])\n",
        "        sell_price = float(f.loc[j, \"price\"])\n",
        "\n",
        "        # months between (assume whole months since monthly data)\n",
        "        months_between = month_index(sell_month) - month_index(buy_month)\n",
        "        if months_between <= 0:\n",
        "            continue  # safety; we only consider buy < sell\n",
        "\n",
        "        # Per-pint cash needed upfront (budget covers costs, not revenue)\n",
        "        cost_per_pint_all_in = buy_price + FREEZE_COST + STORAGE_COST_PER_MONTH * months_between\n",
        "\n",
        "        # Max pints purchasable within budget (integer)\n",
        "        if cost_per_pint_all_in <= 0:\n",
        "            # Degenerate edge case; skip\n",
        "            continue\n",
        "        pints = int(BUDGET // cost_per_pint_all_in)\n",
        "\n",
        "        # Per-pint profit when sold\n",
        "        realized_sell = (1.0 - DISCOUNT) * sell_price\n",
        "        profit_per_pint = realized_sell - buy_price - FREEZE_COST - STORAGE_COST_PER_MONTH * months_between\n",
        "\n",
        "        expected_profit = pints * profit_per_pint\n",
        "\n",
        "        rows.append({\n",
        "            \"buy_month\": buy_month.strftime(\"%Y-%m\"),\n",
        "            \"sell_month\": sell_month.strftime(\"%Y-%m\"),\n",
        "            \"pints_purchased\": pints,\n",
        "            \"expected_profit\": expected_profit\n",
        "        })\n",
        "\n",
        "timings = pd.DataFrame(rows)\n",
        "timings = timings.sort_values([\"buy_month\", \"sell_month\"]).reset_index(drop=True)\n",
        "\n",
        "# Save results\n",
        "timings.to_csv(OUTPUT_PATH, sep=\"\\t\", index=False)\n",
        "print(\"Saved timings.tsv\")\n",
        "print(timings.head())\n"
      ]
    },
    {
      "cell_type": "markdown",
      "metadata": {
        "id": "XAWzFd54nlxI"
      },
      "source": [
        "Submit \"timings.tsv\" in Gradescope."
      ]
    },
    {
      "cell_type": "markdown",
      "metadata": {
        "id": "LdrZE8qKCDUv"
      },
      "source": [
        "## Part 5: Strategy Check\n",
        "\n",
        "What is the best profit scenario according to your previous timing analysis?\n",
        "How much does that profit change if the sell price is off by one standard deviation from your backtest analysis?\n",
        "(Variation in the sell price is more dangerous because you can see the buy price before fully committing.)\n",
        "\n",
        "Write the results to a file \"check.tsv\" with columns best_profit and one_std_profit."
      ]
    },
    {
      "cell_type": "code",
      "execution_count": 24,
      "metadata": {
        "id": "7HvYBo_wt8Rv"
      },
      "outputs": [
        {
          "name": "stdout",
          "output_type": "stream",
          "text": [
            "Saved check.tsv\n",
            "     best_profit  one_std_profit\n",
            "0  101434.796572    41569.563742\n"
          ]
        }
      ],
      "source": [
        "# YOUR CHANGES HERE\n",
        "\n",
        "# Part 5: Strategy Check -> writes check.tsv\n",
        "# Reads:\n",
        "#   - timings.tsv (from Part 4)\n",
        "#   - strawberry-forecast.tsv (from Part 3)\n",
        "#   - backtest-accuracy.tsv (from Part 2)\n",
        "# Writes:\n",
        "#   - check.tsv with columns: best_profit, one_std_profit\n",
        "\n",
        "import pandas as pd\n",
        "import numpy as np\n",
        "\n",
        "TIMINGS_PATH = \"timings.tsv\"\n",
        "FORECAST_PATH = \"strawberry-forecast.tsv\"\n",
        "ACCURACY_PATH = \"backtest-accuracy.tsv\"\n",
        "OUTPUT_PATH = \"check.tsv\"\n",
        "\n",
        "# Constants (must match Part 4)\n",
        "FREEZE_COST = 0.20\n",
        "STORAGE_COST_PER_MONTH = 0.10\n",
        "DISCOUNT = 0.10  # 10% discount on sell price for frozen goods\n",
        "\n",
        "def month_index(dt: pd.Timestamp) -> int:\n",
        "    return dt.year * 12 + dt.month\n",
        "\n",
        "# --- Load inputs ---\n",
        "timings = pd.read_csv(TIMINGS_PATH, sep=\"\\t\")\n",
        "forecast = pd.read_csv(FORECAST_PATH, sep=\"\\t\")\n",
        "acc = pd.read_csv(ACCURACY_PATH, sep=\"\\t\")\n",
        "\n",
        "# Ensure dtypes\n",
        "timings[\"buy_month\"] = pd.to_datetime(timings[\"buy_month\"], format=\"%Y-%m\")\n",
        "timings[\"sell_month\"] = pd.to_datetime(timings[\"sell_month\"], format=\"%Y-%m\")\n",
        "timings[\"expected_profit\"] = timings[\"expected_profit\"].astype(float)\n",
        "timings[\"pints_purchased\"] = timings[\"pints_purchased\"].astype(int)\n",
        "\n",
        "forecast[\"month\"] = pd.to_datetime(forecast[\"month\"], format=\"%Y-%m\")\n",
        "forecast[\"price\"] = forecast[\"price\"].astype(float)\n",
        "\n",
        "std_resid = float(acc[\"std\"].iloc[0])\n",
        "\n",
        "# --- Find best scenario from Part 4 ---\n",
        "best_idx = timings[\"expected_profit\"].idxmax()\n",
        "best_row = timings.loc[best_idx]\n",
        "best_profit = float(best_row[\"expected_profit\"])\n",
        "buy_month = best_row[\"buy_month\"]\n",
        "sell_month = best_row[\"sell_month\"]\n",
        "pints = int(best_row[\"pints_purchased\"])\n",
        "\n",
        "# Lookup forecast prices for those months\n",
        "buy_price = float(forecast.loc[forecast[\"month\"] == buy_month, \"price\"].iloc[0])\n",
        "sell_price = float(forecast.loc[forecast[\"month\"] == sell_month, \"price\"].iloc[0])\n",
        "\n",
        "# Months between\n",
        "months_between = month_index(sell_month) - month_index(buy_month)\n",
        "\n",
        "# --- Recompute profit if sell price is off by 1 std (downside) ---\n",
        "sell_price_adj = max(0.0, sell_price - std_resid)  # guard against negative prices\n",
        "realized_sell_adj = (1.0 - DISCOUNT) * sell_price_adj\n",
        "profit_per_pint_adj = realized_sell_adj - buy_price - FREEZE_COST - STORAGE_COST_PER_MONTH * months_between\n",
        "one_std_profit = pints * profit_per_pint_adj\n",
        "\n",
        "# --- Save output ---\n",
        "out = pd.DataFrame([{\n",
        "    \"best_profit\": best_profit,\n",
        "    \"one_std_profit\": one_std_profit\n",
        "}])\n",
        "out.to_csv(OUTPUT_PATH, sep=\"\\t\", index=False)\n",
        "print(\"Saved check.tsv\")\n",
        "print(out)\n"
      ]
    },
    {
      "cell_type": "markdown",
      "metadata": {
        "id": "M--8x-ZMEKAi"
      },
      "source": [
        "Submit \"check.tsv\" in Gradescope."
      ]
    },
    {
      "cell_type": "markdown",
      "metadata": {
        "id": "usYg0VtaqrGN"
      },
      "source": [
        "## Part 6: Acknowledgments\n",
        "\n",
        "Make a file \"acknowledgments.txt\" documenting any outside sources or help on this project.\n",
        "If you discussed this assignment with anyone, please acknowledge them here.\n",
        "If you used any libraries not mentioned in this module's content, please list them with a brief explanation what you used them for.\n",
        "If you used any generative AI tools, please add links to your transcripts below, and any other information that you feel is necessary to comply with the generative AI policy.\n",
        "If no acknowledgments are appropriate, just write none in the file.\n"
      ]
    },
    {
      "cell_type": "code",
      "execution_count": 25,
      "metadata": {},
      "outputs": [
        {
          "name": "stdout",
          "output_type": "stream",
          "text": [
            "Saved acknowledgments.txt\n"
          ]
        }
      ],
      "source": [
        "# Part 6: Acknowledgments -> writes acknowledgments.txt\n",
        "\n",
        "content = \"\"\"Acknowledgments\n",
        "==========================\n",
        "\n",
        "People & Discussions\n",
        "Ramsha Asad\n",
        "\n",
        "\n",
        "Data Sources\n",
        "- strawberry-prices.tsv (provided in course GitHub: dx704-project-02)\n",
        "\n",
        "Generative AI Usage\n",
        "- I used ChatGPT (GPT-5 Thinking) to help draft/refine code cells for Parts 1–5 (feature design, OLS setup, profit calc, file outputs).\n",
        "- I reviewed and verified all outputs and made final decisions on methodology.\n",
        "\n",
        "Notes\n",
        "-none'.\n",
        "\"\"\"\n",
        "\n",
        "with open(\"acknowledgments.txt\", \"w\", encoding=\"utf-8\") as f:\n",
        "    f.write(content)\n",
        "\n",
        "print(\"Saved acknowledgments.txt\")"
      ]
    },
    {
      "cell_type": "markdown",
      "metadata": {
        "id": "dZdLWQD8qvVV"
      },
      "source": [
        "Submit \"acknowledgments.txt\" in Gradescope."
      ]
    },
    {
      "cell_type": "markdown",
      "metadata": {
        "id": "n7ls909LqzkL"
      },
      "source": [
        "## Part 7: Code\n",
        "\n",
        "Please submit a Jupyter notebook that can reproduce all your calculations and recreate the previously submitted files.\n",
        "You do not need to provide code for data collection if you did that by manually."
      ]
    },
    {
      "cell_type": "markdown",
      "metadata": {
        "id": "mtgsTYQIq2pB"
      },
      "source": [
        "Submit \"project.ipynb\" in Gradescope."
      ]
    }
  ],
  "metadata": {
    "colab": {
      "toc_visible": false
    },
    "kernelspec": {
      "display_name": "base",
      "language": "python",
      "name": "python3"
    },
    "language_info": {
      "codemirror_mode": {
        "name": "ipython",
        "version": 3
      },
      "file_extension": ".py",
      "mimetype": "text/x-python",
      "name": "python",
      "nbconvert_exporter": "python",
      "pygments_lexer": "ipython3",
      "version": "3.12.3"
    }
  },
  "nbformat": 4,
  "nbformat_minor": 0
}
