{
  "cells": [
    {
      "cell_type": "markdown",
      "metadata": {
        "id": "7aZ_blKrRZ3H"
      },
      "source": [
        "# DX 704 Week 2 Project\n",
        "\n",
        "This week's project will analyze fresh strawberry price data for a hypothetical \"buy low, freeze, and sell high\" business.\n",
        "Strawberries show strong seasonality in their prices compared to other fruits.\n",
        "\n",
        "![](https://ers.usda.gov/sites/default/files/_laserfiche/Charts/61401/oct14_finding_plattner_fig01.png)\n",
        "\n",
        "Image source: https://www.ers.usda.gov/amber-waves/2014/october/seasonal-fresh-fruit-price-patterns-differ-across-commodities-the-case-of-strawberries-and-apples\n",
        "\n",
        "You are considering a business where you buy strawberries when the prices are very low, carefully freeze them, even more carefully defrost them, and then sell them when the prices are high.\n",
        "You will forecast strawberry price time series and then use them to tactically pick times to buy, freeze, and sell the strawberries."
      ]
    },
    {
      "cell_type": "markdown",
      "metadata": {
        "id": "g1rddBd6_teG"
      },
      "source": [
        "The full project description, a template notebook, and raw data are available on GitHub at the following link.\n",
        "\n",
        "https://github.com/bu-cds-dx704/dx704-project-02\n"
      ]
    },
    {
      "cell_type": "markdown",
      "metadata": {},
      "source": [
        "### Example Code\n",
        "\n",
        "You may find it helpful to refer to these GitHub repositories of Jupyter notebooks for example code.\n",
        "\n",
        "* https://github.com/bu-cds-omds/dx601-examples\n",
        "* https://github.com/bu-cds-omds/dx602-examples\n",
        "* https://github.com/bu-cds-omds/dx603-examples\n",
        "* https://github.com/bu-cds-omds/dx704-examples\n",
        "\n",
        "Any calculations demonstrated in code examples or videos may be found in these notebooks, and you are allowed to copy this example code in your homework answers."
      ]
    },
    {
      "cell_type": "markdown",
      "metadata": {
        "id": "B7jHqNiZBXzD"
      },
      "source": [
        "## Part 1: Backtest Strawberry Prices\n",
        "\n",
        "Read the provided \"strawberry-prices.tsv\" with data from 2020 through 2024.\n",
        "This data is based on data from the U.S. Bureau of Statistics, but transformed so the ground truth is not online.\n",
        "https://fred.stlouisfed.org/series/APU0000711415\n",
        "\n",
        "Use the data for 2020 through 2023 to predict monthly prices in 2024.\n",
        "Spend some time to make sure you are happy with your methodology and prediction accuracy, since you will reuse the methodology to forecast 2025 next.\n",
        "Save the 2024 backtest predictions as \"strawberry-backtest.tsv\" with columns month and price.\n"
      ]
    },
    {
      "cell_type": "markdown",
      "metadata": {
        "id": "vzTi6z-skMoz"
      },
      "source": [
        "Submit \"strawberry-backtest.tsv\" in Gradescope."
      ]
    },
    {
      "cell_type": "code",
      "execution_count": 43,
      "metadata": {},
      "outputs": [
        {
          "name": "stdout",
          "output_type": "stream",
          "text": [
            "Wrote strawberry-backtest.tsv with months as YYYY-MM-01\n"
          ]
        }
      ],
      "source": [
        "# Part 1: Backtest Strawberry Prices (predict 2024, save YYYY-MM-01)\n",
        "import numpy as np\n",
        "import pandas as pd\n",
        "\n",
        "# ---- CONFIG ----\n",
        "DATA_FILE = \"strawberry-prices.tsv\"  # change if needed\n",
        "\n",
        "# ---- Helpers ----\n",
        "def month_floor(s: pd.Series) -> pd.Series:\n",
        "    s = pd.to_datetime(s, errors=\"coerce\")\n",
        "    return s.dt.to_period(\"M\").dt.to_timestamp()  # first day of month\n",
        "\n",
        "def build_X(month_dt: pd.Series, t: pd.Series) -> pd.DataFrame:\n",
        "    # intercept + linear trend + quadratic trend + month dummies (drop one)\n",
        "    X = pd.DataFrame({\n",
        "        \"intercept\": 1.0,\n",
        "        \"t\": t.astype(float),\n",
        "        \"t2\": (t.astype(float) ** 2)\n",
        "    })\n",
        "    m = month_dt.dt.month.astype(\"int64\")\n",
        "    dummies = pd.get_dummies(m, prefix=\"m\", dtype=float)\n",
        "    # drop one month to avoid multicollinearity; use January (1) as baseline\n",
        "    baseline = \"m_1\"\n",
        "    if baseline in dummies.columns:\n",
        "        dummies = dummies.drop(columns=[baseline])\n",
        "    # ensure all expected dummy cols are present (except baseline)\n",
        "    for k in range(2, 13):\n",
        "        col = f\"m_{k}\"\n",
        "        if col not in dummies.columns:\n",
        "            dummies[col] = 0.0\n",
        "    dummies = dummies.reindex(sorted(dummies.columns), axis=1)\n",
        "    return pd.concat([X, dummies], axis=1)\n",
        "\n",
        "def ols_predict(X_train: pd.DataFrame, y_train: pd.Series, X_new: pd.DataFrame) -> np.ndarray:\n",
        "    beta, *_ = np.linalg.lstsq(X_train.values.astype(float), y_train.values.astype(float), rcond=None)\n",
        "    return (X_new.values.astype(float) @ beta)\n",
        "\n",
        "# ---- Load & prep ----\n",
        "df = pd.read_csv(DATA_FILE, sep=\"\\t\")\n",
        "df[\"month\"] = month_floor(df[\"month\"])\n",
        "df = df.sort_values(\"month\").reset_index(drop=True)\n",
        "df[\"price\"] = df[\"price\"].astype(float)\n",
        "df[\"t\"] = np.arange(len(df), dtype=float)\n",
        "\n",
        "# Train on 2020–2023\n",
        "train = df[(df[\"month\"].dt.year >= 2020) & (df[\"month\"].dt.year <= 2023)].copy()\n",
        "X_tr = build_X(train[\"month\"], train[\"t\"])\n",
        "y_tr = train[\"price\"]\n",
        "\n",
        "# Make 2024 months (first-of-month) and their t-values continuing from training\n",
        "months_2024 = pd.date_range(\"2024-01-01\", periods=12, freq=\"MS\")\n",
        "t_2024 = np.arange(train[\"t\"].max() + 1, train[\"t\"].max() + 1 + 12, dtype=float)\n",
        "X_te = build_X(pd.Series(months_2024), pd.Series(t_2024))\n",
        "\n",
        "# Predict & save\n",
        "pred_2024 = ols_predict(X_tr, y_tr, X_te)\n",
        "backtest = pd.DataFrame({\n",
        "    \"month\": months_2024.strftime(\"%Y-%m-%d\"),  # EXACTLY YYYY-MM-01\n",
        "    \"price\": pred_2024\n",
        "})\n",
        "backtest.to_csv(\"strawberry-backtest.tsv\", sep=\"\\t\", index=False)\n",
        "print(\"Wrote strawberry-backtest.tsv with months as YYYY-MM-01\")\n"
      ]
    },
    {
      "cell_type": "markdown",
      "metadata": {
        "id": "T3D1ItqDnt9c"
      },
      "source": [
        "## Part 2: Backtest Errors\n",
        "\n",
        "What are the mean and standard deviation of the residuals between your backtest predictions and the ground truth? (If your mean is not close to zero, then you may be missing a long term trend.)\n",
        "\n",
        "Write the mean and standard deviation to a file \"backtest-accuracy.tsv\" with two columns, mean and std."
      ]
    },
    {
      "cell_type": "code",
      "execution_count": 44,
      "metadata": {
        "id": "3wxh46v8tnv8"
      },
      "outputs": [
        {
          "name": "stdout",
          "output_type": "stream",
          "text": [
            "Wrote backtest-accuracy.tsv with mean and std\n"
          ]
        }
      ],
      "source": [
        "# Part 2: Residuals mean/std (2024), save backtest-accuracy.tsv\n",
        "import numpy as np\n",
        "import pandas as pd\n",
        "\n",
        "DATA_FILE = \"strawberry-prices.tsv\"\n",
        "\n",
        "def month_floor(s: pd.Series) -> pd.Series:\n",
        "    s = pd.to_datetime(s, errors=\"coerce\")\n",
        "    return s.dt.to_period(\"M\").dt.to_timestamp()  # first day of month\n",
        "\n",
        "# Ground truth 2024 (convert to first-of-month)\n",
        "truth = pd.read_csv(DATA_FILE, sep=\"\\t\")\n",
        "truth[\"month\"] = month_floor(truth[\"month\"])\n",
        "truth_2024 = truth[truth[\"month\"].dt.year == 2024][[\"month\", \"price\"]] \\\n",
        "    .rename(columns={\"price\": \"truth\"})\n",
        "\n",
        "# Backtest (already YYYY-MM-01 strings)\n",
        "bt = pd.read_csv(\"strawberry-backtest.tsv\", sep=\"\\t\")\n",
        "bt[\"month\"] = pd.to_datetime(bt[\"month\"], errors=\"coerce\")  # first-of-month\n",
        "bt = bt[[\"month\", \"price\"]].rename(columns={\"price\": \"pred\"})\n",
        "\n",
        "# Merge & residuals\n",
        "m = truth_2024.merge(bt, on=\"month\", how=\"inner\").sort_values(\"month\")\n",
        "if len(m) != 12:\n",
        "    raise ValueError(f\"Could not align 12 months for 2024 (found {len(m)}). Check your backtest months format.\")\n",
        "\n",
        "resid = m[\"pred\"].astype(float) - m[\"truth\"].astype(float)\n",
        "mean_err = float(resid.mean())\n",
        "std_err  = float(resid.std(ddof=1))\n",
        "\n",
        "pd.DataFrame({\"mean\": [mean_err], \"std\": [std_err]}).to_csv(\"backtest-accuracy.tsv\", sep=\"\\t\", index=False)\n",
        "print(\"Wrote backtest-accuracy.tsv with mean and std\")\n"
      ]
    },
    {
      "cell_type": "markdown",
      "metadata": {
        "id": "Cq2d378QtnG9"
      },
      "source": [
        "Submit \"backtest-accuracy.tsv\" in Gradescope."
      ]
    },
    {
      "cell_type": "markdown",
      "metadata": {
        "id": "Pa4DWVrpj5mq"
      },
      "source": [
        "## Part 3: Forecast Strawberry Prices\n",
        "\n",
        "Use all the data from 2020 through 2024 to predict monthly prices in 2025 using the same methodology from part 1.\n",
        "Make a monthly forecast for each month of 2025 and save it as \"strawberry-forecast.tsv\" with columns for month and price."
      ]
    },
    {
      "cell_type": "code",
      "execution_count": 45,
      "metadata": {
        "id": "CiKoW3BrkJiS"
      },
      "outputs": [
        {
          "name": "stdout",
          "output_type": "stream",
          "text": [
            "Wrote strawberry-forecast.tsv with months as YYYY-MM\n"
          ]
        }
      ],
      "source": [
        "# Part 3: Forecast 2025 using the SAME model spec, save months as YYYY-MM\n",
        "import numpy as np\n",
        "import pandas as pd\n",
        "\n",
        "DATA_FILE = \"strawberry-prices.tsv\"\n",
        "\n",
        "def month_floor(s: pd.Series) -> pd.Series:\n",
        "    s = pd.to_datetime(s, errors=\"coerce\")\n",
        "    return s.dt.to_period(\"M\").dt.to_timestamp()\n",
        "\n",
        "def build_X(month_dt: pd.Series, t: pd.Series) -> pd.DataFrame:\n",
        "    X = pd.DataFrame({\n",
        "        \"intercept\": 1.0,\n",
        "        \"t\": t.astype(float),\n",
        "        \"t2\": (t.astype(float) ** 2)\n",
        "    })\n",
        "    m = month_dt.dt.month.astype(\"int64\")\n",
        "    dummies = pd.get_dummies(m, prefix=\"m\", dtype=float)\n",
        "    baseline = \"m_1\"\n",
        "    if baseline in dummies.columns:\n",
        "        dummies = dummies.drop(columns=[baseline])\n",
        "    for k in range(2, 13):\n",
        "        col = f\"m_{k}\"\n",
        "        if col not in dummies.columns:\n",
        "            dummies[col] = 0.0\n",
        "    dummies = dummies.reindex(sorted(dummies.columns), axis=1)\n",
        "    return pd.concat([X, dummies], axis=1)\n",
        "\n",
        "def ols_predict(X_train: pd.DataFrame, y_train: pd.Series, X_new: pd.DataFrame) -> np.ndarray:\n",
        "    beta, *_ = np.linalg.lstsq(X_train.values.astype(float), y_train.values.astype(float), rcond=None)\n",
        "    return (X_new.values.astype(float) @ beta)\n",
        "\n",
        "# Load all data (2020–2024)\n",
        "df = pd.read_csv(DATA_FILE, sep=\"\\t\")\n",
        "df[\"month\"] = month_floor(df[\"month\"])\n",
        "df = df.sort_values(\"month\").reset_index(drop=True)\n",
        "df[\"price\"] = df[\"price\"].astype(float)\n",
        "df[\"t\"] = np.arange(len(df), dtype=float)\n",
        "\n",
        "# Train on all rows (2020–2024)\n",
        "X_tr = build_X(df[\"month\"], df[\"t\"])\n",
        "y_tr = df[\"price\"]\n",
        "\n",
        "# Build 2025 months & t\n",
        "months_2025 = pd.date_range(\"2025-01-01\", periods=12, freq=\"MS\")\n",
        "t_2025 = np.arange(df[\"t\"].max() + 1, df[\"t\"].max() + 1 + 12, dtype=float)\n",
        "X_te = build_X(pd.Series(months_2025), pd.Series(t_2025))\n",
        "\n",
        "pred_2025 = ols_predict(X_tr, y_tr, X_te)\n",
        "forecast = pd.DataFrame({\n",
        "    \"month\": months_2025.strftime(\"%Y-%m\"),  # EXACTLY YYYY-MM (no day)\n",
        "    \"price\": pred_2025\n",
        "})\n",
        "forecast.to_csv(\"strawberry-forecast.tsv\", sep=\"\\t\", index=False)\n",
        "print(\"Wrote strawberry-forecast.tsv with months as YYYY-MM\")\n"
      ]
    },
    {
      "cell_type": "markdown",
      "metadata": {
        "id": "32lM_MPdico0"
      },
      "source": [
        "Submit \"strawberry-forecast.tsv\" in Gradescope."
      ]
    },
    {
      "cell_type": "markdown",
      "metadata": {
        "id": "SzCWxxaLi8MH"
      },
      "source": [
        "## Part 4: Buy Low, Freeze and Sell High\n",
        "\n",
        "Using your 2025 forecast, analyze the profit picking different pairs of months to buy and sell strawberries.\n",
        "Maximize your profit assuming that it costs &dollar;0.20 per pint to freeze the strawberries, &dollar;0.10 per pint per month to store the frozen strawberries and there is a 10% price discount from selling previously frozen strawberries.\n",
        "So, if you buy a pint of strawberies for &dollar;1, freeze them, and sell them for &dollar;2 three months after buying them, then the profit is &dollar;2 * 0.9 - &dollar;1 - &dollar;0.20 - &dollar;0.10 * 3 = &dollar;0.30 per pint.\n",
        "To evaluate a given pair of months, assume that you can invest &dollar;1,000,000 to cover all costs, and that you buy as many pints of strawberries as possible.\n",
        "\n",
        "Write the results of your analysis to a file \"timings.tsv\" with columns for the buy_month, sell_month, pints_purchased, and expected_profit."
      ]
    },
    {
      "cell_type": "code",
      "execution_count": 35,
      "metadata": {
        "id": "pGWQQvy6nkCk"
      },
      "outputs": [
        {
          "name": "stdout",
          "output_type": "stream",
          "text": [
            "Saved timings.tsv\n",
            "  buy_month sell_month  pints_purchased  expected_profit\n",
            "0   2025-01    2025-02           197998   -220354.993670\n",
            "1   2025-01    2025-03           194153   -309999.289813\n",
            "2   2025-01    2025-04           190456   -315332.523590\n",
            "3   2025-01    2025-05           186896   -374647.095924\n",
            "4   2025-01    2025-06           183467   -427895.543292\n"
          ]
        }
      ],
      "source": [
        "# YOUR CHANGES HERE\n",
        "\n",
        "# Part 4: Buy Low, Freeze and Sell High -> writes timings.tsv\n",
        "# Assumptions per spec:\n",
        "# - Freeze cost: $0.20 per pint (fixed)\n",
        "# - Storage cost: $0.10 per pint per month (charged for each month between buy and sell)\n",
        "# - Sell price discount for frozen: 10% (i.e., realized sell price = 0.9 * forecast sell price)\n",
        "# - Budget: $1,000,000 to cover ALL costs upfront (buy + freeze + storage); buy as many pints as possible.\n",
        "# - Evaluate ALL month pairs buy<sell in 2025 forecast.\n",
        "\n",
        "import pandas as pd\n",
        "import numpy as np\n",
        "\n",
        "FORECAST_PATH = \"strawberry-forecast.tsv\"  # expects columns: month (YYYY-MM), price\n",
        "OUTPUT_PATH = \"timings.tsv\"\n",
        "\n",
        "FREEZE_COST = 0.20\n",
        "STORAGE_COST_PER_MONTH = 0.10\n",
        "DISCOUNT = 0.10          # 10% discount\n",
        "BUDGET = 1_000_000\n",
        "\n",
        "# --- Load forecast for 2025 ---\n",
        "f = pd.read_csv(FORECAST_PATH, sep=\"\\t\")\n",
        "# Guard: ensure correct dtypes\n",
        "f[\"month\"] = pd.to_datetime(f[\"month\"], format=\"%Y-%m\")\n",
        "f = f.sort_values(\"month\").reset_index(drop=True)\n",
        "f[\"price\"] = f[\"price\"].astype(float)\n",
        "\n",
        "# Helper to compute integer month index (for differences)\n",
        "def month_index(dt: pd.Timestamp) -> int:\n",
        "    return dt.year * 12 + dt.month\n",
        "\n",
        "rows = []\n",
        "for i in range(len(f)):\n",
        "    for j in range(i + 1, len(f)):\n",
        "        buy_month = f.loc[i, \"month\"]\n",
        "        sell_month = f.loc[j, \"month\"]\n",
        "        buy_price = float(f.loc[i, \"price\"])\n",
        "        sell_price = float(f.loc[j, \"price\"])\n",
        "\n",
        "        # months between (assume whole months since monthly data)\n",
        "        months_between = month_index(sell_month) - month_index(buy_month)\n",
        "        if months_between <= 0:\n",
        "            continue  # safety; we only consider buy < sell\n",
        "\n",
        "        # Per-pint cash needed upfront (budget covers costs, not revenue)\n",
        "        cost_per_pint_all_in = buy_price + FREEZE_COST + STORAGE_COST_PER_MONTH * months_between\n",
        "\n",
        "        # Max pints purchasable within budget (integer)\n",
        "        if cost_per_pint_all_in <= 0:\n",
        "            # Degenerate edge case; skip\n",
        "            continue\n",
        "        pints = int(BUDGET // cost_per_pint_all_in)\n",
        "\n",
        "        # Per-pint profit when sold\n",
        "        realized_sell = (1.0 - DISCOUNT) * sell_price\n",
        "        profit_per_pint = realized_sell - buy_price - FREEZE_COST - STORAGE_COST_PER_MONTH * months_between\n",
        "\n",
        "        expected_profit = pints * profit_per_pint\n",
        "\n",
        "        rows.append({\n",
        "            \"buy_month\": buy_month.strftime(\"%Y-%m\"),\n",
        "            \"sell_month\": sell_month.strftime(\"%Y-%m\"),\n",
        "            \"pints_purchased\": pints,\n",
        "            \"expected_profit\": expected_profit\n",
        "        })\n",
        "\n",
        "timings = pd.DataFrame(rows)\n",
        "timings = timings.sort_values([\"buy_month\", \"sell_month\"]).reset_index(drop=True)\n",
        "\n",
        "# Save results\n",
        "timings.to_csv(OUTPUT_PATH, sep=\"\\t\", index=False)\n",
        "print(\"Saved timings.tsv\")\n",
        "print(timings.head())\n"
      ]
    },
    {
      "cell_type": "markdown",
      "metadata": {
        "id": "XAWzFd54nlxI"
      },
      "source": [
        "Submit \"timings.tsv\" in Gradescope."
      ]
    },
    {
      "cell_type": "markdown",
      "metadata": {
        "id": "LdrZE8qKCDUv"
      },
      "source": [
        "## Part 5: Strategy Check\n",
        "\n",
        "What is the best profit scenario according to your previous timing analysis?\n",
        "How much does that profit change if the sell price is off by one standard deviation from your backtest analysis?\n",
        "(Variation in the sell price is more dangerous because you can see the buy price before fully committing.)\n",
        "\n",
        "Write the results to a file \"check.tsv\" with columns best_profit and one_std_profit."
      ]
    },
    {
      "cell_type": "code",
      "execution_count": 36,
      "metadata": {
        "id": "7HvYBo_wt8Rv"
      },
      "outputs": [
        {
          "name": "stdout",
          "output_type": "stream",
          "text": [
            "Saved check.tsv\n",
            "     best_profit  one_std_profit\n",
            "0  101434.796572    41569.563742\n"
          ]
        }
      ],
      "source": [
        "# YOUR CHANGES HERE\n",
        "\n",
        "# Part 5: Strategy Check -> writes check.tsv\n",
        "# Reads:\n",
        "#   - timings.tsv (from Part 4)\n",
        "#   - strawberry-forecast.tsv (from Part 3)\n",
        "#   - backtest-accuracy.tsv (from Part 2)\n",
        "# Writes:\n",
        "#   - check.tsv with columns: best_profit, one_std_profit\n",
        "\n",
        "import pandas as pd\n",
        "import numpy as np\n",
        "\n",
        "TIMINGS_PATH = \"timings.tsv\"\n",
        "FORECAST_PATH = \"strawberry-forecast.tsv\"\n",
        "ACCURACY_PATH = \"backtest-accuracy.tsv\"\n",
        "OUTPUT_PATH = \"check.tsv\"\n",
        "\n",
        "# Constants (must match Part 4)\n",
        "FREEZE_COST = 0.20\n",
        "STORAGE_COST_PER_MONTH = 0.10\n",
        "DISCOUNT = 0.10  # 10% discount on sell price for frozen goods\n",
        "\n",
        "def month_index(dt: pd.Timestamp) -> int:\n",
        "    return dt.year * 12 + dt.month\n",
        "\n",
        "# --- Load inputs ---\n",
        "timings = pd.read_csv(TIMINGS_PATH, sep=\"\\t\")\n",
        "forecast = pd.read_csv(FORECAST_PATH, sep=\"\\t\")\n",
        "acc = pd.read_csv(ACCURACY_PATH, sep=\"\\t\")\n",
        "\n",
        "# Ensure dtypes\n",
        "timings[\"buy_month\"] = pd.to_datetime(timings[\"buy_month\"], format=\"%Y-%m\")\n",
        "timings[\"sell_month\"] = pd.to_datetime(timings[\"sell_month\"], format=\"%Y-%m\")\n",
        "timings[\"expected_profit\"] = timings[\"expected_profit\"].astype(float)\n",
        "timings[\"pints_purchased\"] = timings[\"pints_purchased\"].astype(int)\n",
        "\n",
        "forecast[\"month\"] = pd.to_datetime(forecast[\"month\"], format=\"%Y-%m\")\n",
        "forecast[\"price\"] = forecast[\"price\"].astype(float)\n",
        "\n",
        "std_resid = float(acc[\"std\"].iloc[0])\n",
        "\n",
        "# --- Find best scenario from Part 4 ---\n",
        "best_idx = timings[\"expected_profit\"].idxmax()\n",
        "best_row = timings.loc[best_idx]\n",
        "best_profit = float(best_row[\"expected_profit\"])\n",
        "buy_month = best_row[\"buy_month\"]\n",
        "sell_month = best_row[\"sell_month\"]\n",
        "pints = int(best_row[\"pints_purchased\"])\n",
        "\n",
        "# Lookup forecast prices for those months\n",
        "buy_price = float(forecast.loc[forecast[\"month\"] == buy_month, \"price\"].iloc[0])\n",
        "sell_price = float(forecast.loc[forecast[\"month\"] == sell_month, \"price\"].iloc[0])\n",
        "\n",
        "# Months between\n",
        "months_between = month_index(sell_month) - month_index(buy_month)\n",
        "\n",
        "# --- Recompute profit if sell price is off by 1 std (downside) ---\n",
        "sell_price_adj = max(0.0, sell_price - std_resid)  # guard against negative prices\n",
        "realized_sell_adj = (1.0 - DISCOUNT) * sell_price_adj\n",
        "profit_per_pint_adj = realized_sell_adj - buy_price - FREEZE_COST - STORAGE_COST_PER_MONTH * months_between\n",
        "one_std_profit = pints * profit_per_pint_adj\n",
        "\n",
        "# --- Save output ---\n",
        "out = pd.DataFrame([{\n",
        "    \"best_profit\": best_profit,\n",
        "    \"one_std_profit\": one_std_profit\n",
        "}])\n",
        "out.to_csv(OUTPUT_PATH, sep=\"\\t\", index=False)\n",
        "print(\"Saved check.tsv\")\n",
        "print(out)\n"
      ]
    },
    {
      "cell_type": "markdown",
      "metadata": {
        "id": "M--8x-ZMEKAi"
      },
      "source": [
        "Submit \"check.tsv\" in Gradescope."
      ]
    },
    {
      "cell_type": "markdown",
      "metadata": {
        "id": "usYg0VtaqrGN"
      },
      "source": [
        "## Part 6: Acknowledgments\n",
        "\n",
        "Make a file \"acknowledgments.txt\" documenting any outside sources or help on this project.\n",
        "If you discussed this assignment with anyone, please acknowledge them here.\n",
        "If you used any libraries not mentioned in this module's content, please list them with a brief explanation what you used them for.\n",
        "If you used any generative AI tools, please add links to your transcripts below, and any other information that you feel is necessary to comply with the generative AI policy.\n",
        "If no acknowledgments are appropriate, just write none in the file.\n"
      ]
    },
    {
      "cell_type": "code",
      "execution_count": 37,
      "metadata": {},
      "outputs": [
        {
          "name": "stdout",
          "output_type": "stream",
          "text": [
            "Saved acknowledgments.txt\n"
          ]
        }
      ],
      "source": [
        "# Part 6: Acknowledgments -> writes acknowledgments.txt\n",
        "\n",
        "content = \"\"\"Acknowledgments\n",
        "==========================\n",
        "\n",
        "People & Discussions\n",
        "Ramsha Asad\n",
        "\n",
        "\n",
        "Data Sources\n",
        "- strawberry-prices.tsv (provided in course GitHub: dx704-project-02)\n",
        "\n",
        "Generative AI Usage\n",
        "- I used ChatGPT (GPT-5 Thinking) to help draft/refine code cells for Parts 1–5 (feature design, OLS setup, profit calc, file outputs).\n",
        "- I reviewed and verified all outputs and made final decisions on methodology.\n",
        "\n",
        "Notes\n",
        "-none'.\n",
        "\"\"\"\n",
        "\n",
        "with open(\"acknowledgments.txt\", \"w\", encoding=\"utf-8\") as f:\n",
        "    f.write(content)\n",
        "\n",
        "print(\"Saved acknowledgments.txt\")"
      ]
    },
    {
      "cell_type": "markdown",
      "metadata": {
        "id": "dZdLWQD8qvVV"
      },
      "source": [
        "Submit \"acknowledgments.txt\" in Gradescope."
      ]
    },
    {
      "cell_type": "markdown",
      "metadata": {
        "id": "n7ls909LqzkL"
      },
      "source": [
        "## Part 7: Code\n",
        "\n",
        "Please submit a Jupyter notebook that can reproduce all your calculations and recreate the previously submitted files.\n",
        "You do not need to provide code for data collection if you did that by manually."
      ]
    },
    {
      "cell_type": "code",
      "execution_count": null,
      "metadata": {},
      "outputs": [],
      "source": []
    },
    {
      "cell_type": "markdown",
      "metadata": {
        "id": "mtgsTYQIq2pB"
      },
      "source": [
        "Submit \"project.ipynb\" in Gradescope."
      ]
    }
  ],
  "metadata": {
    "colab": {
      "toc_visible": false
    },
    "kernelspec": {
      "display_name": "base",
      "language": "python",
      "name": "python3"
    },
    "language_info": {
      "codemirror_mode": {
        "name": "ipython",
        "version": 3
      },
      "file_extension": ".py",
      "mimetype": "text/x-python",
      "name": "python",
      "nbconvert_exporter": "python",
      "pygments_lexer": "ipython3",
      "version": "3.12.3"
    }
  },
  "nbformat": 4,
  "nbformat_minor": 0
}
