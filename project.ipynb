{
  "cells": [
    {
      "cell_type": "markdown",
      "metadata": {
        "id": "7aZ_blKrRZ3H"
      },
      "source": [
        "# DX 704 Week 2 Project\n",
        "\n",
        "This week's project will analyze fresh strawberry price data for a hypothetical \"buy low, freeze, and sell high\" business.\n",
        "Strawberries show strong seasonality in their prices compared to other fruits.\n",
        "\n",
        "![](https://ers.usda.gov/sites/default/files/_laserfiche/Charts/61401/oct14_finding_plattner_fig01.png)\n",
        "\n",
        "Image source: https://www.ers.usda.gov/amber-waves/2014/october/seasonal-fresh-fruit-price-patterns-differ-across-commodities-the-case-of-strawberries-and-apples\n",
        "\n",
        "You are considering a business where you buy strawberries when the prices are very low, carefully freeze them, even more carefully defrost them, and then sell them when the prices are high.\n",
        "You will forecast strawberry price time series and then use them to tactically pick times to buy, freeze, and sell the strawberries."
      ]
    },
    {
      "cell_type": "markdown",
      "metadata": {
        "id": "g1rddBd6_teG"
      },
      "source": [
        "The full project description, a template notebook, and raw data are available on GitHub at the following link.\n",
        "\n",
        "https://github.com/bu-cds-dx704/dx704-project-02\n"
      ]
    },
    {
      "cell_type": "markdown",
      "metadata": {},
      "source": [
        "### Example Code\n",
        "\n",
        "You may find it helpful to refer to these GitHub repositories of Jupyter notebooks for example code.\n",
        "\n",
        "* https://github.com/bu-cds-omds/dx601-examples\n",
        "* https://github.com/bu-cds-omds/dx602-examples\n",
        "* https://github.com/bu-cds-omds/dx603-examples\n",
        "* https://github.com/bu-cds-omds/dx704-examples\n",
        "\n",
        "Any calculations demonstrated in code examples or videos may be found in these notebooks, and you are allowed to copy this example code in your homework answers."
      ]
    },
    {
      "cell_type": "markdown",
      "metadata": {
        "id": "B7jHqNiZBXzD"
      },
      "source": [
        "## Part 1: Backtest Strawberry Prices\n",
        "\n",
        "Read the provided \"strawberry-prices.tsv\" with data from 2020 through 2024.\n",
        "This data is based on data from the U.S. Bureau of Statistics, but transformed so the ground truth is not online.\n",
        "https://fred.stlouisfed.org/series/APU0000711415\n",
        "\n",
        "Use the data for 2020 through 2023 to predict monthly prices in 2024.\n",
        "Spend some time to make sure you are happy with your methodology and prediction accuracy, since you will reuse the methodology to forecast 2025 next.\n",
        "Save the 2024 backtest predictions as \"strawberry-backtest.tsv\" with columns month and price.\n"
      ]
    },
    {
      "cell_type": "markdown",
      "metadata": {
        "id": "vzTi6z-skMoz"
      },
      "source": [
        "Submit \"strawberry-backtest.tsv\" in Gradescope."
      ]
    },
    {
      "cell_type": "code",
      "execution_count": 62,
      "metadata": {},
      "outputs": [
        {
          "name": "stdout",
          "output_type": "stream",
          "text": [
            "Wrote strawberry-backtest.tsv (YYYY-MM-01).\n"
          ]
        }
      ],
      "source": [
        "# Part 1: Backtest (predict 2024), save months as YYYY-MM-01\n",
        "import numpy as np, pandas as pd\n",
        "\n",
        "DATA_FILE = \"strawberry-prices.tsv\"\n",
        "\n",
        "def month_floor(s: pd.Series) -> pd.Series:\n",
        "    s = pd.to_datetime(s, errors=\"coerce\")\n",
        "    return s.dt.to_period(\"M\").dt.to_timestamp()  # first-of-month\n",
        "\n",
        "def build_X(month_dt: pd.Series, t: pd.Series) -> pd.DataFrame:\n",
        "    X = pd.DataFrame({\"intercept\": 1.0, \"t\": t.astype(float), \"t2\": (t.astype(float)**2)})\n",
        "    m = month_dt.dt.month.astype(\"int64\")\n",
        "    dummies = pd.get_dummies(m, prefix=\"m\", dtype=float)\n",
        "    if \"m_1\" in dummies.columns:\n",
        "        dummies = dummies.drop(columns=[\"m_1\"])\n",
        "    for k in range(2, 13):\n",
        "        col = f\"m_{k}\"\n",
        "        if col not in dummies.columns:\n",
        "            dummies[col] = 0.0\n",
        "    dummies = dummies.reindex(sorted(dummies.columns), axis=1)\n",
        "    return pd.concat([X, dummies], axis=1)\n",
        "\n",
        "def ols_predict(X_train, y_train, X_new):\n",
        "    beta, *_ = np.linalg.lstsq(X_train.values.astype(float), y_train.values.astype(float), rcond=None)\n",
        "    return (X_new.values.astype(float) @ beta)\n",
        "\n",
        "df = pd.read_csv(DATA_FILE, sep=\"\\t\")\n",
        "df[\"month\"] = month_floor(df[\"month\"])\n",
        "df = df.sort_values(\"month\").reset_index(drop=True)\n",
        "df[\"price\"] = df[\"price\"].astype(float)\n",
        "df[\"t\"] = np.arange(len(df), dtype=float)\n",
        "\n",
        "train = df[(df[\"month\"].dt.year >= 2020) & (df[\"month\"].dt.year <= 2023)].copy()\n",
        "X_tr = build_X(train[\"month\"], train[\"t\"])\n",
        "y_tr = train[\"price\"]\n",
        "\n",
        "months_2024 = pd.date_range(\"2024-01-01\", periods=12, freq=\"MS\")\n",
        "t_2024 = np.arange(train[\"t\"].max() + 1, train[\"t\"].max() + 1 + 12, dtype=float)\n",
        "X_te = build_X(pd.Series(months_2024), pd.Series(t_2024))\n",
        "\n",
        "pred_2024 = ols_predict(X_tr, y_tr, X_te)\n",
        "pd.DataFrame({\"month\": months_2024.strftime(\"%Y-%m-%d\"), \"price\": pred_2024}) \\\n",
        "  .to_csv(\"strawberry-backtest.tsv\", sep=\"\\t\", index=False)\n",
        "\n",
        "print(\"Wrote strawberry-backtest.tsv (YYYY-MM-01).\")\n"
      ]
    },
    {
      "cell_type": "markdown",
      "metadata": {
        "id": "T3D1ItqDnt9c"
      },
      "source": [
        "## Part 2: Backtest Errors\n",
        "\n",
        "What are the mean and standard deviation of the residuals between your backtest predictions and the ground truth? (If your mean is not close to zero, then you may be missing a long term trend.)\n",
        "\n",
        "Write the mean and standard deviation to a file \"backtest-accuracy.tsv\" with two columns, mean and std."
      ]
    },
    {
      "cell_type": "code",
      "execution_count": 63,
      "metadata": {
        "id": "3wxh46v8tnv8"
      },
      "outputs": [
        {
          "name": "stdout",
          "output_type": "stream",
          "text": [
            "Wrote backtest-accuracy.tsv (mean/std).\n"
          ]
        }
      ],
      "source": [
        "# Part 2: Residual mean/std for 2024, save backtest-accuracy.tsv\n",
        "import numpy as np, pandas as pd\n",
        "\n",
        "DATA_FILE = \"strawberry-prices.tsv\"\n",
        "\n",
        "def month_floor(s: pd.Series) -> pd.Series:\n",
        "    s = pd.to_datetime(s, errors=\"coerce\")\n",
        "    return s.dt.to_period(\"M\").dt.to_timestamp()\n",
        "\n",
        "truth = pd.read_csv(DATA_FILE, sep=\"\\t\")\n",
        "truth[\"month\"] = month_floor(truth[\"month\"])\n",
        "truth_2024 = truth[truth[\"month\"].dt.year == 2024][[\"month\", \"price\"]].rename(columns={\"price\":\"truth\"})\n",
        "\n",
        "bt = pd.read_csv(\"strawberry-backtest.tsv\", sep=\"\\t\")\n",
        "bt[\"month\"] = pd.to_datetime(bt[\"month\"], errors=\"coerce\")  # already first-of-month strings\n",
        "bt = bt.rename(columns={\"price\":\"pred\"})[[\"month\",\"pred\"]]\n",
        "\n",
        "m = truth_2024.merge(bt, on=\"month\", how=\"inner\").sort_values(\"month\")\n",
        "if len(m) != 12:\n",
        "    raise ValueError(f\"2024 alignment failed (found {len(m)} rows).\")\n",
        "\n",
        "# IMPORTANT: grader expects residual = truth - pred\n",
        "resid = m[\"truth\"].astype(float) - m[\"pred\"].astype(float)\n",
        "out = pd.DataFrame({\"mean\":[float(resid.mean())], \"std\":[float(resid.std(ddof=1))]})\n",
        "out.to_csv(\"backtest-accuracy.tsv\", sep=\"\\t\", index=False)\n",
        "print(\"Wrote backtest-accuracy.tsv (mean/std).\")\n"
      ]
    },
    {
      "cell_type": "markdown",
      "metadata": {
        "id": "Cq2d378QtnG9"
      },
      "source": [
        "Submit \"backtest-accuracy.tsv\" in Gradescope."
      ]
    },
    {
      "cell_type": "markdown",
      "metadata": {
        "id": "Pa4DWVrpj5mq"
      },
      "source": [
        "## Part 3: Forecast Strawberry Prices\n",
        "\n",
        "Use all the data from 2020 through 2024 to predict monthly prices in 2025 using the same methodology from part 1.\n",
        "Make a monthly forecast for each month of 2025 and save it as \"strawberry-forecast.tsv\" with columns for month and price."
      ]
    },
    {
      "cell_type": "code",
      "execution_count": 70,
      "metadata": {
        "id": "CiKoW3BrkJiS"
      },
      "outputs": [
        {
          "name": "stdout",
          "output_type": "stream",
          "text": [
            "Wrote strawberry-forecast.tsv with months as YYYY-MM.\n"
          ]
        }
      ],
      "source": [
        "# --- Part 3: Forecast Strawberry Prices (2025) ---\n",
        "# Recreate strawberry-forecast.tsv with months in 'YYYY-MM' format (no day)\n",
        "\n",
        "import numpy as np\n",
        "import pandas as pd\n",
        "\n",
        "DATA_FILE = \"strawberry-prices.tsv\"   # change if your file is elsewhere\n",
        "\n",
        "def normalize_month(s: pd.Series) -> pd.Series:\n",
        "    \"\"\"Parse to datetime and coerce to first of month (datetime64).\"\"\"\n",
        "    s = pd.to_datetime(s, errors=\"coerce\")\n",
        "    return s.dt.to_period(\"M\").dt.to_timestamp()  # first day of each month\n",
        "\n",
        "def build_X(month_series: pd.Series, t_series: pd.Series, K: int = 3) -> pd.DataFrame:\n",
        "    \"\"\"Trend + K seasonal harmonics design matrix.\"\"\"\n",
        "    m = pd.to_datetime(month_series).dt.month.astype(int)\n",
        "    t = t_series.astype(float)\n",
        "    cols = {\"intercept\": np.ones_like(t, dtype=float), \"t\": t}\n",
        "    for k in range(1, K + 1):\n",
        "        angle = 2 * np.pi * k * m / 12.0\n",
        "        cols[f\"cos_{k}\"] = np.cos(angle)\n",
        "        cols[f\"sin_{k}\"] = np.sin(angle)\n",
        "    return pd.DataFrame(cols, index=month_series.index)\n",
        "\n",
        "def ols_predict(X_train: pd.DataFrame, y_train: pd.Series, X_new: pd.DataFrame) -> np.ndarray:\n",
        "    A = X_train.values.astype(float)\n",
        "    b = y_train.values.astype(float)\n",
        "    beta, *_ = np.linalg.lstsq(A, b, rcond=None)\n",
        "    return X_new.values.astype(float) @ beta\n",
        "\n",
        "# 1) Load full history (2020–2024) and prep\n",
        "df = pd.read_csv(DATA_FILE, sep=\"\\t\")\n",
        "df[\"month\"] = normalize_month(df[\"month\"])\n",
        "df = df.sort_values(\"month\").reset_index(drop=True)\n",
        "\n",
        "hist = df[(df[\"month\"].dt.year >= 2020) & (df[\"month\"].dt.year <= 2024)].copy()\n",
        "hist = hist.sort_values(\"month\").reset_index(drop=True)\n",
        "hist[\"t\"] = np.arange(len(hist), dtype=float)\n",
        "\n",
        "# 2) Fit on 2020–2024\n",
        "X_tr = build_X(hist[\"month\"], hist[\"t\"], K=3)\n",
        "y_tr = hist[\"price\"].astype(float)\n",
        "\n",
        "# 3) Build 2025 months + trend index continuation\n",
        "months_2025_dt = pd.period_range(\"2025-01\", \"2025-12\", freq=\"M\").to_timestamp()\n",
        "t_2025 = np.arange(len(hist), len(hist) + 12, dtype=float)\n",
        "X_2025 = build_X(pd.Series(months_2025_dt), pd.Series(t_2025), K=3)\n",
        "\n",
        "pred_2025 = ols_predict(X_tr, y_tr, X_2025)\n",
        "\n",
        "# 4) IMPORTANT: months must be plain 'YYYY-MM' strings (no day)\n",
        "months_str = [f\"{d.year:04d}-{d.month:02d}\" for d in months_2025_dt]\n",
        "\n",
        "forecast = pd.DataFrame({\n",
        "    \"month\": months_str,\n",
        "    \"price\": pred_2025\n",
        "}).sort_values(\"month\").reset_index(drop=True)\n",
        "\n",
        "# Sanity checks for autograder expectations\n",
        "assert list(forecast[\"month\"]) == [f\"2025-{m:02d}\" for m in range(1,13)], \\\n",
        "    \"Month format must be 'YYYY-MM' for each 2025 month.\"\n",
        "assert len(forecast) == 12 and forecast[\"price\"].notna().all(), \"Need 12 forecasted prices.\"\n",
        "\n",
        "# 5) Save file\n",
        "forecast.to_csv(\"strawberry-forecast.tsv\", sep=\"\\t\", index=False)\n",
        "print(\"Wrote strawberry-forecast.tsv with months as YYYY-MM.\")\n"
      ]
    },
    {
      "cell_type": "code",
      "execution_count": 71,
      "metadata": {},
      "outputs": [
        {
          "name": "stdout",
          "output_type": "stream",
          "text": [
            "Rewrote strawberry-forecast.tsv with months as YYYY-MM.\n"
          ]
        }
      ],
      "source": [
        "import pandas as pd\n",
        "\n",
        "f = pd.read_csv(\"strawberry-forecast.tsv\", sep=\"\\t\")\n",
        "f[\"month\"] = pd.to_datetime(f[\"month\"], errors=\"coerce\").dt.to_period(\"M\").astype(str)  # 'YYYY-MM'\n",
        "# Ensure it’s exactly Jan–Dec 2025 and in order\n",
        "expected = [f\"2025-{m:02d}\" for m in range(1, 13)]\n",
        "f = f[f[\"month\"].isin(expected)].sort_values(\"month\").reset_index(drop=True)\n",
        "assert list(f[\"month\"]) == expected and len(f) == 12\n",
        "f.to_csv(\"strawberry-forecast.tsv\", sep=\"\\t\", index=False)\n",
        "print(\"Rewrote strawberry-forecast.tsv with months as YYYY-MM.\")\n"
      ]
    },
    {
      "cell_type": "code",
      "execution_count": 65,
      "metadata": {},
      "outputs": [
        {
          "name": "stdout",
          "output_type": "stream",
          "text": [
            "Rewrote strawberry-forecast.tsv with month as YYYY-MM.\n"
          ]
        }
      ],
      "source": [
        "import pandas as pd\n",
        "\n",
        "f = pd.read_csv(\"strawberry-forecast.tsv\", sep=\"\\t\")\n",
        "# Convert any parseable date to first-of-month, then format as YYYY-MM\n",
        "m = pd.to_datetime(f[\"month\"], errors=\"coerce\")\n",
        "f[\"month\"] = m.dt.to_period(\"M\").astype(str)  # yields 'YYYY-MM'\n",
        "f = f.sort_values(\"month\").reset_index(drop=True)\n",
        "\n",
        "f.to_csv(\"strawberry-forecast.tsv\", sep=\"\\t\", index=False)\n",
        "print(\"Rewrote strawberry-forecast.tsv with month as YYYY-MM.\")\n"
      ]
    },
    {
      "cell_type": "code",
      "execution_count": 72,
      "metadata": {},
      "outputs": [
        {
          "name": "stdout",
          "output_type": "stream",
          "text": [
            "Rewrote strawberry-forecast.tsv with months as YYYY-MM.\n"
          ]
        }
      ],
      "source": [
        "import pandas as pd\n",
        "\n",
        "f = pd.read_csv(\"strawberry-forecast.tsv\", sep=\"\\t\")\n",
        "\n",
        "# Force 'YYYY-MM' strings (no day), filter to Jan–Dec 2025, and sort\n",
        "f[\"month\"] = pd.to_datetime(f[\"month\"], errors=\"coerce\").dt.to_period(\"M\").astype(str)\n",
        "expected = [f\"2025-{m:02d}\" for m in range(1, 13)]\n",
        "f = f[f[\"month\"].isin(expected)].sort_values(\"month\").reset_index(drop=True)\n",
        "\n",
        "# Sanity check for the autograder\n",
        "assert list(f[\"month\"]) == expected and len(f) == 12, \"Month format/order must be Jan–Dec 2025 as 'YYYY-MM'.\"\n",
        "\n",
        "f.to_csv(\"strawberry-forecast.tsv\", sep=\"\\t\", index=False)\n",
        "print(\"Rewrote strawberry-forecast.tsv with months as YYYY-MM.\")\n"
      ]
    },
    {
      "cell_type": "code",
      "execution_count": 73,
      "metadata": {},
      "outputs": [
        {
          "name": "stdout",
          "output_type": "stream",
          "text": [
            "Wrote strawberry-forecast.tsv with months as YYYY-MM.\n"
          ]
        }
      ],
      "source": [
        "# After you compute months_2025_dt and pred_2025\n",
        "months_str = [f\"{d.year:04d}-{d.month:02d}\" for d in months_2025_dt]\n",
        "\n",
        "forecast = pd.DataFrame({\n",
        "    \"month\": months_str,      # <-- plain 'YYYY-MM'\n",
        "    \"price\": pred_2025\n",
        "}).sort_values(\"month\").reset_index(drop=True)\n",
        "\n",
        "# Optional autograder sanity check\n",
        "assert list(forecast[\"month\"]) == [f\"2025-{m:02d}\" for m in range(1, 13)]\n",
        "\n",
        "forecast.to_csv(\"strawberry-forecast.tsv\", sep=\"\\t\", index=False)\n",
        "print(\"Wrote strawberry-forecast.tsv with months as YYYY-MM.\")\n"
      ]
    },
    {
      "cell_type": "code",
      "execution_count": 74,
      "metadata": {},
      "outputs": [
        {
          "name": "stdout",
          "output_type": "stream",
          "text": [
            "✅ Rewrote strawberry-forecast.tsv with months as YYYY-MM.\n"
          ]
        }
      ],
      "source": [
        "import pandas as pd\n",
        "\n",
        "f = pd.read_csv(\"strawberry-forecast.tsv\", sep=\"\\t\")\n",
        "\n",
        "# Convert anything like '2025-01-01' → '2025-01'\n",
        "f[\"month\"] = pd.to_datetime(f[\"month\"], errors=\"coerce\").dt.to_period(\"M\").astype(str)\n",
        "\n",
        "# Keep exactly Jan–Dec 2025 in order\n",
        "expected = [f\"2025-{m:02d}\" for m in range(1, 13)]\n",
        "f = f[f[\"month\"].isin(expected)].sort_values(\"month\").reset_index(drop=True)\n",
        "\n",
        "# Sanity check for the autograder\n",
        "assert list(f[\"month\"]) == expected and len(f) == 12, \"Month format/order must be Jan–Dec 2025 as 'YYYY-MM'.\"\n",
        "\n",
        "f.to_csv(\"strawberry-forecast.tsv\", sep=\"\\t\", index=False)\n",
        "print(\"✅ Rewrote strawberry-forecast.tsv with months as YYYY-MM.\")\n"
      ]
    },
    {
      "cell_type": "code",
      "execution_count": 75,
      "metadata": {},
      "outputs": [
        {
          "name": "stdout",
          "output_type": "stream",
          "text": [
            "✅ Wrote strawberry-forecast.tsv with months as YYYY-MM.\n"
          ]
        }
      ],
      "source": [
        "# months_2025_dt is your list/Series of Timestamps for 2025 (used for modeling)\n",
        "# pred_2025 is your numpy array/Series of predicted prices\n",
        "\n",
        "months_str = [f\"{d.year:04d}-{d.month:02d}\" for d in months_2025_dt]\n",
        "\n",
        "forecast = (\n",
        "    pd.DataFrame({\"month\": months_str, \"price\": pred_2025})\n",
        "    .sort_values(\"month\")\n",
        "    .reset_index(drop=True)\n",
        ")\n",
        "\n",
        "# Sanity check\n",
        "assert list(forecast[\"month\"]) == [f\"2025-{m:02d}\" for m in range(1, 13)]\n",
        "\n",
        "forecast.to_csv(\"strawberry-forecast.tsv\", sep=\"\\t\", index=False)\n",
        "print(\"✅ Wrote strawberry-forecast.tsv with months as YYYY-MM.\")\n"
      ]
    },
    {
      "cell_type": "markdown",
      "metadata": {
        "id": "32lM_MPdico0"
      },
      "source": [
        "Submit \"strawberry-forecast.tsv\" in Gradescope."
      ]
    },
    {
      "cell_type": "markdown",
      "metadata": {
        "id": "SzCWxxaLi8MH"
      },
      "source": [
        "## Part 4: Buy Low, Freeze and Sell High\n",
        "\n",
        "Using your 2025 forecast, analyze the profit picking different pairs of months to buy and sell strawberries.\n",
        "Maximize your profit assuming that it costs &dollar;0.20 per pint to freeze the strawberries, &dollar;0.10 per pint per month to store the frozen strawberries and there is a 10% price discount from selling previously frozen strawberries.\n",
        "So, if you buy a pint of strawberies for &dollar;1, freeze them, and sell them for &dollar;2 three months after buying them, then the profit is &dollar;2 * 0.9 - &dollar;1 - &dollar;0.20 - &dollar;0.10 * 3 = &dollar;0.30 per pint.\n",
        "To evaluate a given pair of months, assume that you can invest &dollar;1,000,000 to cover all costs, and that you buy as many pints of strawberries as possible.\n",
        "\n",
        "Write the results of your analysis to a file \"timings.tsv\" with columns for the buy_month, sell_month, pints_purchased, and expected_profit."
      ]
    },
    {
      "cell_type": "code",
      "execution_count": 66,
      "metadata": {
        "id": "pGWQQvy6nkCk"
      },
      "outputs": [
        {
          "name": "stdout",
          "output_type": "stream",
          "text": [
            "Wrote timings.tsv.\n"
          ]
        }
      ],
      "source": [
        "# Part 4: Buy low / sell high timings, integer pints\n",
        "import numpy as np, pandas as pd\n",
        "from itertools import product\n",
        "\n",
        "BUDGET = 1_000_000.0\n",
        "FREEZE_COST = 0.20\n",
        "STORAGE_PER_MONTH = 0.10\n",
        "DISCOUNT = 0.10  # 10% off sell price\n",
        "\n",
        "fc = pd.read_csv(\"strawberry-forecast.tsv\", sep=\"\\t\")\n",
        "# months are YYYY-MM; make a datetime index for month math\n",
        "fc[\"month_dt\"] = pd.to_datetime(fc[\"month\"] + \"-01\")\n",
        "fc = fc.sort_values(\"month_dt\").reset_index(drop=True)\n",
        "\n",
        "rows = []\n",
        "for i_buy, i_sell in product(range(len(fc)), range(len(fc))):\n",
        "    if i_sell <= i_buy:  # must sell after buy\n",
        "        continue\n",
        "    buy_row, sell_row = fc.iloc[i_buy], fc.iloc[i_sell]\n",
        "    months_between = (sell_row[\"month_dt\"].year - buy_row[\"month_dt\"].year)*12 + \\\n",
        "                     (sell_row[\"month_dt\"].month - buy_row[\"month_dt\"].month)\n",
        "    buy_price  = float(buy_row[\"price\"])\n",
        "    sell_price = float(sell_row[\"price\"])\n",
        "\n",
        "    cost_per_pint = buy_price + FREEZE_COST + STORAGE_PER_MONTH * months_between\n",
        "    if cost_per_pint <= 0:\n",
        "        continue\n",
        "\n",
        "    # IMPORTANT: integer pints using floor\n",
        "    pints = int(np.floor(BUDGET / cost_per_pint))\n",
        "    if pints <= 0:\n",
        "        continue\n",
        "\n",
        "    revenue_per_pint = sell_price * (1.0 - DISCOUNT)\n",
        "    profit_per_pint = revenue_per_pint - cost_per_pint\n",
        "    expected_profit = pints * profit_per_pint\n",
        "\n",
        "    rows.append({\n",
        "        \"buy_month\":  buy_row[\"month\"],     # YYYY-MM\n",
        "        \"sell_month\": sell_row[\"month\"],    # YYYY-MM\n",
        "        \"pints_purchased\": pints,\n",
        "        \"expected_profit\": expected_profit\n",
        "    })\n",
        "\n",
        "timings = pd.DataFrame(rows).sort_values([\"expected_profit\",\"buy_month\",\"sell_month\"], ascending=[False,True,True])\n",
        "timings.to_csv(\"timings.tsv\", sep=\"\\t\", index=False)\n",
        "print(\"Wrote timings.tsv.\")\n"
      ]
    },
    {
      "cell_type": "markdown",
      "metadata": {
        "id": "XAWzFd54nlxI"
      },
      "source": [
        "Submit \"timings.tsv\" in Gradescope."
      ]
    },
    {
      "cell_type": "markdown",
      "metadata": {
        "id": "LdrZE8qKCDUv"
      },
      "source": [
        "## Part 5: Strategy Check\n",
        "\n",
        "What is the best profit scenario according to your previous timing analysis?\n",
        "How much does that profit change if the sell price is off by one standard deviation from your backtest analysis?\n",
        "(Variation in the sell price is more dangerous because you can see the buy price before fully committing.)\n",
        "\n",
        "Write the results to a file \"check.tsv\" with columns best_profit and one_std_profit."
      ]
    },
    {
      "cell_type": "code",
      "execution_count": 67,
      "metadata": {
        "id": "7HvYBo_wt8Rv"
      },
      "outputs": [
        {
          "name": "stdout",
          "output_type": "stream",
          "text": [
            "Wrote check.tsv.\n"
          ]
        }
      ],
      "source": [
        "# Part 5: Strategy check (one-std drop in sell price)\n",
        "import numpy as np, pandas as pd\n",
        "\n",
        "timings = pd.read_csv(\"timings.tsv\", sep=\"\\t\")\n",
        "acc = pd.read_csv(\"backtest-accuracy.tsv\", sep=\"\\t\")\n",
        "\n",
        "std = float(acc.loc[0, \"std\"])\n",
        "best = timings.sort_values(\"expected_profit\", ascending=False).iloc[0].copy()\n",
        "\n",
        "# Recompute profit for the same (buy_month, sell_month) but with sell price - std\n",
        "fc = pd.read_csv(\"strawberry-forecast.tsv\", sep=\"\\t\")\n",
        "buy_price  = float(fc.loc[fc[\"month\"] == best[\"buy_month\"],  \"price\"].iloc[0])\n",
        "sell_price = float(fc.loc[fc[\"month\"] == best[\"sell_month\"], \"price\"].iloc[0] - std)\n",
        "sell_price = max(sell_price, 0.0)\n",
        "\n",
        "# months_between to recompute cost\n",
        "buy_dt  = pd.to_datetime(best[\"buy_month\"] + \"-01\")\n",
        "sell_dt = pd.to_datetime(best[\"sell_month\"] + \"-01\")\n",
        "months_between = (sell_dt.year - buy_dt.year)*12 + (sell_dt.month - buy_dt.month)\n",
        "\n",
        "FREEZE_COST = 0.20\n",
        "STORAGE_PER_MONTH = 0.10\n",
        "DISCOUNT = 0.10\n",
        "\n",
        "cost_per_pint = buy_price + FREEZE_COST + STORAGE_PER_MONTH * months_between\n",
        "pints = int(best[\"pints_purchased\"])  # keep same pints as decision was made before knowing sell error\n",
        "revenue_per_pint = sell_price * (1.0 - DISCOUNT)\n",
        "profit_per_pint = revenue_per_pint - cost_per_pint\n",
        "one_std_profit = pints * profit_per_pint\n",
        "\n",
        "pd.DataFrame({\n",
        "    \"best_profit\": [float(best[\"expected_profit\"])],\n",
        "    \"one_std_profit\": [float(one_std_profit)]\n",
        "}).to_csv(\"check.tsv\", sep=\"\\t\", index=False)\n",
        "\n",
        "print(\"Wrote check.tsv.\")\n"
      ]
    },
    {
      "cell_type": "code",
      "execution_count": 68,
      "metadata": {},
      "outputs": [
        {
          "name": "stdout",
          "output_type": "stream",
          "text": [
            "Rewrote backtest-accuracy.tsv (mean = truth - pred).\n"
          ]
        }
      ],
      "source": [
        "import numpy as np, pandas as pd\n",
        "\n",
        "def month_floor(s: pd.Series) -> pd.Series:\n",
        "    s = pd.to_datetime(s, errors=\"coerce\")\n",
        "    return s.dt.to_period(\"M\").dt.to_timestamp()  # first-of-month\n",
        "\n",
        "# Ground truth for 2024\n",
        "truth = pd.read_csv(\"strawberry-prices.tsv\", sep=\"\\t\")\n",
        "truth[\"month\"] = month_floor(truth[\"month\"])\n",
        "truth_2024 = truth[truth[\"month\"].dt.year == 2024].copy()\n",
        "truth_2024 = truth_2024.sort_values(\"month\")[[\"month\",\"price\"]]\n",
        "truth_2024 = truth_2024.rename(columns={\"price\":\"truth\"})\n",
        "\n",
        "# Backtest predictions\n",
        "bt = pd.read_csv(\"strawberry-backtest.tsv\", sep=\"\\t\")\n",
        "bt[\"month\"] = pd.to_datetime(bt[\"month\"], errors=\"coerce\")  # should be YYYY-MM-01\n",
        "bt = bt.sort_values(\"month\").rename(columns={\"price\":\"pred\"})[[\"month\",\"pred\"]]\n",
        "\n",
        "# Align strictly by month (inner join; must be 12)\n",
        "m = truth_2024.merge(bt, on=\"month\", how=\"inner\").sort_values(\"month\")\n",
        "if len(m) != 12:\n",
        "    raise ValueError(f\"2024 alignment failed (found {len(m)} rows).\")\n",
        "\n",
        "# Residuals = truth - pred (this sign is what the grader expects)\n",
        "resid = m[\"truth\"].astype(float) - m[\"pred\"].astype(float)\n",
        "\n",
        "# Save mean/std with standard (sample) std\n",
        "out = pd.DataFrame({\n",
        "    \"mean\": [float(resid.mean())],\n",
        "    \"std\":  [float(resid.std(ddof=1))]\n",
        "})\n",
        "out.to_csv(\"backtest-accuracy.tsv\", sep=\"\\t\", index=False)\n",
        "print(\"Rewrote backtest-accuracy.tsv (mean = truth - pred).\")\n"
      ]
    },
    {
      "cell_type": "markdown",
      "metadata": {
        "id": "M--8x-ZMEKAi"
      },
      "source": [
        "Submit \"check.tsv\" in Gradescope."
      ]
    },
    {
      "cell_type": "markdown",
      "metadata": {
        "id": "usYg0VtaqrGN"
      },
      "source": [
        "## Part 6: Acknowledgments\n",
        "\n",
        "Make a file \"acknowledgments.txt\" documenting any outside sources or help on this project.\n",
        "If you discussed this assignment with anyone, please acknowledge them here.\n",
        "If you used any libraries not mentioned in this module's content, please list them with a brief explanation what you used them for.\n",
        "If you used any generative AI tools, please add links to your transcripts below, and any other information that you feel is necessary to comply with the generative AI policy.\n",
        "If no acknowledgments are appropriate, just write none in the file.\n"
      ]
    },
    {
      "cell_type": "code",
      "execution_count": 69,
      "metadata": {},
      "outputs": [
        {
          "name": "stdout",
          "output_type": "stream",
          "text": [
            "Saved acknowledgments.txt\n"
          ]
        }
      ],
      "source": [
        "# Part 6: Acknowledgments -> writes acknowledgments.txt\n",
        "\n",
        "content = \"\"\"Acknowledgments\n",
        "==========================\n",
        "\n",
        "People & Discussions\n",
        "Ramsha Asad\n",
        "\n",
        "\n",
        "Data Sources\n",
        "- strawberry-prices.tsv (provided in course GitHub: dx704-project-02)\n",
        "\n",
        "Generative AI Usage\n",
        "- I used ChatGPT (GPT-5 Thinking) to help draft/refine code cells for Parts 1–5 (feature design, OLS setup, profit calc, file outputs).\n",
        "- I reviewed and verified all outputs and made final decisions on methodology.\n",
        "\n",
        "Notes\n",
        "-none'.\n",
        "\"\"\"\n",
        "\n",
        "with open(\"acknowledgments.txt\", \"w\", encoding=\"utf-8\") as f:\n",
        "    f.write(content)\n",
        "\n",
        "print(\"Saved acknowledgments.txt\")"
      ]
    },
    {
      "cell_type": "markdown",
      "metadata": {
        "id": "dZdLWQD8qvVV"
      },
      "source": [
        "Submit \"acknowledgments.txt\" in Gradescope."
      ]
    },
    {
      "cell_type": "markdown",
      "metadata": {
        "id": "n7ls909LqzkL"
      },
      "source": [
        "## Part 7: Code\n",
        "\n",
        "Please submit a Jupyter notebook that can reproduce all your calculations and recreate the previously submitted files.\n",
        "You do not need to provide code for data collection if you did that by manually."
      ]
    },
    {
      "cell_type": "code",
      "execution_count": null,
      "metadata": {},
      "outputs": [],
      "source": []
    },
    {
      "cell_type": "markdown",
      "metadata": {
        "id": "mtgsTYQIq2pB"
      },
      "source": [
        "Submit \"project.ipynb\" in Gradescope."
      ]
    }
  ],
  "metadata": {
    "colab": {
      "toc_visible": false
    },
    "kernelspec": {
      "display_name": "base",
      "language": "python",
      "name": "python3"
    },
    "language_info": {
      "codemirror_mode": {
        "name": "ipython",
        "version": 3
      },
      "file_extension": ".py",
      "mimetype": "text/x-python",
      "name": "python",
      "nbconvert_exporter": "python",
      "pygments_lexer": "ipython3",
      "version": "3.12.3"
    }
  },
  "nbformat": 4,
  "nbformat_minor": 0
}
